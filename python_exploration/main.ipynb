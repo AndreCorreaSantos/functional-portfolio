{
 "cells": [
  {
   "cell_type": "code",
   "execution_count": 2,
   "metadata": {},
   "outputs": [
    {
     "data": {
      "text/html": [
       "<div>\n",
       "<style scoped>\n",
       "    .dataframe tbody tr th:only-of-type {\n",
       "        vertical-align: middle;\n",
       "    }\n",
       "\n",
       "    .dataframe tbody tr th {\n",
       "        vertical-align: top;\n",
       "    }\n",
       "\n",
       "    .dataframe thead th {\n",
       "        text-align: right;\n",
       "    }\n",
       "</style>\n",
       "<table border=\"1\" class=\"dataframe\">\n",
       "  <thead>\n",
       "    <tr style=\"text-align: right;\">\n",
       "      <th></th>\n",
       "      <th>a0</th>\n",
       "      <th>a1</th>\n",
       "      <th>a2</th>\n",
       "      <th>a3</th>\n",
       "      <th>a4</th>\n",
       "      <th>a5</th>\n",
       "      <th>a6</th>\n",
       "      <th>a7</th>\n",
       "      <th>a8</th>\n",
       "      <th>a9</th>\n",
       "      <th>...</th>\n",
       "      <th>a20</th>\n",
       "      <th>a21</th>\n",
       "      <th>a22</th>\n",
       "      <th>a23</th>\n",
       "      <th>a24</th>\n",
       "      <th>a25</th>\n",
       "      <th>a26</th>\n",
       "      <th>a27</th>\n",
       "      <th>a28</th>\n",
       "      <th>a29</th>\n",
       "    </tr>\n",
       "  </thead>\n",
       "  <tbody>\n",
       "    <tr>\n",
       "      <th>0</th>\n",
       "      <td>80.441978</td>\n",
       "      <td>62.763602</td>\n",
       "      <td>46.912796</td>\n",
       "      <td>17.580598</td>\n",
       "      <td>52.616476</td>\n",
       "      <td>27.273486</td>\n",
       "      <td>45.852003</td>\n",
       "      <td>73.859295</td>\n",
       "      <td>54.744797</td>\n",
       "      <td>55.466211</td>\n",
       "      <td>...</td>\n",
       "      <td>7.532072</td>\n",
       "      <td>66.606436</td>\n",
       "      <td>25.664053</td>\n",
       "      <td>11.342042</td>\n",
       "      <td>28.496017</td>\n",
       "      <td>62.325849</td>\n",
       "      <td>7.751877</td>\n",
       "      <td>16.470458</td>\n",
       "      <td>43.255854</td>\n",
       "      <td>32.287479</td>\n",
       "    </tr>\n",
       "    <tr>\n",
       "      <th>1</th>\n",
       "      <td>86.582611</td>\n",
       "      <td>40.565604</td>\n",
       "      <td>5.679506</td>\n",
       "      <td>55.310499</td>\n",
       "      <td>48.617762</td>\n",
       "      <td>68.597021</td>\n",
       "      <td>78.749153</td>\n",
       "      <td>30.474890</td>\n",
       "      <td>50.820144</td>\n",
       "      <td>61.871157</td>\n",
       "      <td>...</td>\n",
       "      <td>71.246046</td>\n",
       "      <td>10.027910</td>\n",
       "      <td>5.469935</td>\n",
       "      <td>98.917358</td>\n",
       "      <td>4.772704</td>\n",
       "      <td>13.869977</td>\n",
       "      <td>76.775269</td>\n",
       "      <td>11.431314</td>\n",
       "      <td>44.411419</td>\n",
       "      <td>27.382909</td>\n",
       "    </tr>\n",
       "    <tr>\n",
       "      <th>2</th>\n",
       "      <td>46.019533</td>\n",
       "      <td>36.964991</td>\n",
       "      <td>43.933518</td>\n",
       "      <td>85.964729</td>\n",
       "      <td>78.744218</td>\n",
       "      <td>95.297508</td>\n",
       "      <td>63.415360</td>\n",
       "      <td>49.363625</td>\n",
       "      <td>10.052787</td>\n",
       "      <td>15.083001</td>\n",
       "      <td>...</td>\n",
       "      <td>84.230967</td>\n",
       "      <td>73.464192</td>\n",
       "      <td>57.105107</td>\n",
       "      <td>42.629837</td>\n",
       "      <td>7.734132</td>\n",
       "      <td>61.016087</td>\n",
       "      <td>58.991457</td>\n",
       "      <td>7.145256</td>\n",
       "      <td>18.528688</td>\n",
       "      <td>3.581934</td>\n",
       "    </tr>\n",
       "    <tr>\n",
       "      <th>3</th>\n",
       "      <td>10.668664</td>\n",
       "      <td>83.911419</td>\n",
       "      <td>52.692502</td>\n",
       "      <td>56.944824</td>\n",
       "      <td>1.677418</td>\n",
       "      <td>51.674069</td>\n",
       "      <td>30.705785</td>\n",
       "      <td>34.616540</td>\n",
       "      <td>53.767324</td>\n",
       "      <td>37.127162</td>\n",
       "      <td>...</td>\n",
       "      <td>14.633843</td>\n",
       "      <td>30.518043</td>\n",
       "      <td>95.431710</td>\n",
       "      <td>59.699177</td>\n",
       "      <td>52.590386</td>\n",
       "      <td>34.668828</td>\n",
       "      <td>13.619766</td>\n",
       "      <td>22.576324</td>\n",
       "      <td>45.677178</td>\n",
       "      <td>21.886245</td>\n",
       "    </tr>\n",
       "    <tr>\n",
       "      <th>4</th>\n",
       "      <td>57.050255</td>\n",
       "      <td>76.947848</td>\n",
       "      <td>36.995940</td>\n",
       "      <td>19.009419</td>\n",
       "      <td>10.925758</td>\n",
       "      <td>13.972232</td>\n",
       "      <td>43.662098</td>\n",
       "      <td>87.189719</td>\n",
       "      <td>73.534504</td>\n",
       "      <td>53.009632</td>\n",
       "      <td>...</td>\n",
       "      <td>53.168105</td>\n",
       "      <td>25.025920</td>\n",
       "      <td>81.271882</td>\n",
       "      <td>97.594336</td>\n",
       "      <td>10.624934</td>\n",
       "      <td>26.451923</td>\n",
       "      <td>75.859308</td>\n",
       "      <td>95.048781</td>\n",
       "      <td>67.369004</td>\n",
       "      <td>18.778430</td>\n",
       "    </tr>\n",
       "  </tbody>\n",
       "</table>\n",
       "<p>5 rows × 30 columns</p>\n",
       "</div>"
      ],
      "text/plain": [
       "          a0         a1         a2         a3         a4         a5  \\\n",
       "0  80.441978  62.763602  46.912796  17.580598  52.616476  27.273486   \n",
       "1  86.582611  40.565604   5.679506  55.310499  48.617762  68.597021   \n",
       "2  46.019533  36.964991  43.933518  85.964729  78.744218  95.297508   \n",
       "3  10.668664  83.911419  52.692502  56.944824   1.677418  51.674069   \n",
       "4  57.050255  76.947848  36.995940  19.009419  10.925758  13.972232   \n",
       "\n",
       "          a6         a7         a8         a9  ...        a20        a21  \\\n",
       "0  45.852003  73.859295  54.744797  55.466211  ...   7.532072  66.606436   \n",
       "1  78.749153  30.474890  50.820144  61.871157  ...  71.246046  10.027910   \n",
       "2  63.415360  49.363625  10.052787  15.083001  ...  84.230967  73.464192   \n",
       "3  30.705785  34.616540  53.767324  37.127162  ...  14.633843  30.518043   \n",
       "4  43.662098  87.189719  73.534504  53.009632  ...  53.168105  25.025920   \n",
       "\n",
       "         a22        a23        a24        a25        a26        a27  \\\n",
       "0  25.664053  11.342042  28.496017  62.325849   7.751877  16.470458   \n",
       "1   5.469935  98.917358   4.772704  13.869977  76.775269  11.431314   \n",
       "2  57.105107  42.629837   7.734132  61.016087  58.991457   7.145256   \n",
       "3  95.431710  59.699177  52.590386  34.668828  13.619766  22.576324   \n",
       "4  81.271882  97.594336  10.624934  26.451923  75.859308  95.048781   \n",
       "\n",
       "         a28        a29  \n",
       "0  43.255854  32.287479  \n",
       "1  44.411419  27.382909  \n",
       "2  18.528688   3.581934  \n",
       "3  45.677178  21.886245  \n",
       "4  67.369004  18.778430  \n",
       "\n",
       "[5 rows x 30 columns]"
      ]
     },
     "execution_count": 2,
     "metadata": {},
     "output_type": "execute_result"
    }
   ],
   "source": [
    "import pandas as pd\n",
    "import numpy as np\n",
    "\n",
    "\n",
    "data = pd.read_csv('mock.csv', index_col=0)\n",
    "data.head(5)\n"
   ]
  },
  {
   "cell_type": "markdown",
   "metadata": {},
   "source": [
    "### Random w"
   ]
  },
  {
   "cell_type": "code",
   "execution_count": 3,
   "metadata": {},
   "outputs": [
    {
     "data": {
      "image/png": "[encoded data removed]",
      "text/plain": [
       "<Figure size 640x480 with 1 Axes>"
      ]
     },
     "metadata": {},
     "output_type": "display_data"
    }
   ],
   "source": [
    "# normal distribution with noise\n",
    "def get_normal_w(n_assets):\n",
    "    x = np.linspace(-3, 3, n_assets)\n",
    "    # 25 bins, normal distribution from -3 to 3\n",
    "    pdf = np.exp(-0.5 * x**2)\n",
    "    # add noise\n",
    "    pdf += np.random.rand(n_assets)*2.0\n",
    "    return pdf/np.sum(pdf)\n",
    "\n",
    "def get_random_w(n_assets):\n",
    "    return np.random.dirichlet(np.ones(n_assets))\n",
    "\n",
    "import matplotlib.pyplot as plt\n",
    "weights = get_normal_w(25)\n",
    "plt.bar(np.arange(len(weights)), weights, edgecolor='k')\n",
    "plt.title(\"w\")\n",
    "plt.show()"
   ]
  },
  {
   "cell_type": "code",
   "execution_count": 10,
   "metadata": {},
   "outputs": [
    {
     "data": {
      "text/plain": [
       "0.026841715397027167"
      ]
     },
     "execution_count": 10,
     "metadata": {},
     "output_type": "execute_result"
    }
   ],
   "source": [
    "# calculates the annualized return of a portfolio from the selected assets\n",
    "# assets -> names of the assets in the df\n",
    "# w -> percentage allocated into each one\n",
    "# data -> dataframe for the assets\n",
    "# rfr -> risk free rate\n",
    "def get_sharpe(assets,w,rfr,data):\n",
    "    assets = data.loc[:,assets]\n",
    "    #r = row[i+1] - row[i]\n",
    "    daily_ret = (assets - assets.shift(-1)).dropna()\n",
    "    weighted_rets = daily_ret @ w \n",
    "    # drop last (nan)\n",
    "    mean_daily_rets = weighted_rets.mean()\n",
    "    std_daily_rets = weighted_rets.std()\n",
    "\n",
    "    #annualizing\n",
    "    annualized_ret = mean_daily_rets * 252\n",
    "    annualized_std = std_daily_rets * np.sqrt(252)\n",
    "\n",
    "    return (annualized_ret - rfr)/ annualized_std\n",
    "\n",
    "\n",
    "w = get_random_w(25)\n",
    "assets = data.columns[0:25]\n",
    "\n",
    "get_sharpe(assets,w,0.0,data)"
   ]
  },
  {
   "cell_type": "markdown",
   "metadata": {},
   "source": [
    "## Simple model: no paralelization"
   ]
  },
  {
   "cell_type": "code",
   "execution_count": 11,
   "metadata": {},
   "outputs": [
    {
     "name": "stderr",
     "output_type": "stream",
     "text": [
      "  0%|          | 0/142506 [00:00<?, ?it/s]"
     ]
    },
    {
     "name": "stderr",
     "output_type": "stream",
     "text": [
      "  0%|          | 51/142506 [00:43<33:40:52,  1.17it/s]\n"
     ]
    },
    {
     "ename": "KeyboardInterrupt",
     "evalue": "",
     "output_type": "error",
     "traceback": [
      "\u001b[0;31m---------------------------------------------------------------------------\u001b[0m",
      "\u001b[0;31mKeyboardInterrupt\u001b[0m                         Traceback (most recent call last)",
      "Cell \u001b[0;32mIn[11], line 14\u001b[0m\n\u001b[1;32m     12\u001b[0m \u001b[38;5;28;01mfor\u001b[39;00m i \u001b[38;5;129;01min\u001b[39;00m \u001b[38;5;28mrange\u001b[39m(\u001b[38;5;241m0\u001b[39m,\u001b[38;5;241m1000\u001b[39m):\n\u001b[1;32m     13\u001b[0m     w \u001b[38;5;241m=\u001b[39m get_random_w(n_assets)\n\u001b[0;32m---> 14\u001b[0m     sharpe \u001b[38;5;241m=\u001b[39m \u001b[43mget_sharpe\u001b[49m\u001b[43m(\u001b[49m\u001b[43mcombo\u001b[49m\u001b[43m,\u001b[49m\u001b[43mw\u001b[49m\u001b[43m,\u001b[49m\u001b[38;5;241;43m0.0\u001b[39;49m\u001b[43m,\u001b[49m\u001b[43mdata\u001b[49m\u001b[43m)\u001b[49m\n\u001b[1;32m     15\u001b[0m     \u001b[38;5;28;01mif\u001b[39;00m sharpe \u001b[38;5;241m>\u001b[39m max_sharpe:\n\u001b[1;32m     16\u001b[0m         max_sharpe \u001b[38;5;241m=\u001b[39m sharpe\n",
      "Cell \u001b[0;32mIn[10], line 7\u001b[0m, in \u001b[0;36mget_sharpe\u001b[0;34m(assets, w, rfr, data)\u001b[0m\n\u001b[1;32m      6\u001b[0m \u001b[38;5;28;01mdef\u001b[39;00m \u001b[38;5;21mget_sharpe\u001b[39m(assets,w,rfr,data):\n\u001b[0;32m----> 7\u001b[0m     assets \u001b[38;5;241m=\u001b[39m \u001b[43mdata\u001b[49m\u001b[38;5;241;43m.\u001b[39;49m\u001b[43mloc\u001b[49m\u001b[43m[\u001b[49m\u001b[43m:\u001b[49m\u001b[43m,\u001b[49m\u001b[43massets\u001b[49m\u001b[43m]\u001b[49m\n\u001b[1;32m      8\u001b[0m     \u001b[38;5;66;03m#r = row[i+1] - row[i]\u001b[39;00m\n\u001b[1;32m      9\u001b[0m     daily_ret \u001b[38;5;241m=\u001b[39m (assets \u001b[38;5;241m-\u001b[39m assets\u001b[38;5;241m.\u001b[39mshift(\u001b[38;5;241m-\u001b[39m\u001b[38;5;241m1\u001b[39m))\u001b[38;5;241m.\u001b[39mdropna()\n",
      "File \u001b[0;32m~/miniconda3/lib/python3.11/site-packages/pandas/core/indexing.py:1147\u001b[0m, in \u001b[0;36m_LocationIndexer.__getitem__\u001b[0;34m(self, key)\u001b[0m\n\u001b[1;32m   1145\u001b[0m     \u001b[38;5;28;01mif\u001b[39;00m \u001b[38;5;28mself\u001b[39m\u001b[38;5;241m.\u001b[39m_is_scalar_access(key):\n\u001b[1;32m   1146\u001b[0m         \u001b[38;5;28;01mreturn\u001b[39;00m \u001b[38;5;28mself\u001b[39m\u001b[38;5;241m.\u001b[39mobj\u001b[38;5;241m.\u001b[39m_get_value(\u001b[38;5;241m*\u001b[39mkey, takeable\u001b[38;5;241m=\u001b[39m\u001b[38;5;28mself\u001b[39m\u001b[38;5;241m.\u001b[39m_takeable)\n\u001b[0;32m-> 1147\u001b[0m     \u001b[38;5;28;01mreturn\u001b[39;00m \u001b[38;5;28;43mself\u001b[39;49m\u001b[38;5;241;43m.\u001b[39;49m\u001b[43m_getitem_tuple\u001b[49m\u001b[43m(\u001b[49m\u001b[43mkey\u001b[49m\u001b[43m)\u001b[49m\n\u001b[1;32m   1148\u001b[0m \u001b[38;5;28;01melse\u001b[39;00m:\n\u001b[1;32m   1149\u001b[0m     \u001b[38;5;66;03m# we by definition only have the 0th axis\u001b[39;00m\n\u001b[1;32m   1150\u001b[0m     axis \u001b[38;5;241m=\u001b[39m \u001b[38;5;28mself\u001b[39m\u001b[38;5;241m.\u001b[39maxis \u001b[38;5;129;01mor\u001b[39;00m \u001b[38;5;241m0\u001b[39m\n",
      "File \u001b[0;32m~/miniconda3/lib/python3.11/site-packages/pandas/core/indexing.py:1329\u001b[0m, in \u001b[0;36m_LocIndexer._getitem_tuple\u001b[0;34m(self, tup)\u001b[0m\n\u001b[1;32m   1327\u001b[0m \u001b[38;5;28;01mdef\u001b[39;00m \u001b[38;5;21m_getitem_tuple\u001b[39m(\u001b[38;5;28mself\u001b[39m, tup: \u001b[38;5;28mtuple\u001b[39m):\n\u001b[1;32m   1328\u001b[0m     \u001b[38;5;28;01mwith\u001b[39;00m suppress(IndexingError):\n\u001b[0;32m-> 1329\u001b[0m         tup \u001b[38;5;241m=\u001b[39m \u001b[38;5;28;43mself\u001b[39;49m\u001b[38;5;241;43m.\u001b[39;49m\u001b[43m_expand_ellipsis\u001b[49m\u001b[43m(\u001b[49m\u001b[43mtup\u001b[49m\u001b[43m)\u001b[49m\n\u001b[1;32m   1330\u001b[0m         \u001b[38;5;28;01mreturn\u001b[39;00m \u001b[38;5;28mself\u001b[39m\u001b[38;5;241m.\u001b[39m_getitem_lowerdim(tup)\n\u001b[1;32m   1332\u001b[0m     \u001b[38;5;66;03m# no multi-index, so validate all of the indexers\u001b[39;00m\n",
      "File \u001b[0;32m~/miniconda3/lib/python3.11/site-packages/pandas/core/indexing.py:909\u001b[0m, in \u001b[0;36m_LocationIndexer._expand_ellipsis\u001b[0;34m(self, tup)\u001b[0m\n\u001b[1;32m    888\u001b[0m \u001b[38;5;250m    \u001b[39m\u001b[38;5;124;03m\"\"\"\u001b[39;00m\n\u001b[1;32m    889\u001b[0m \u001b[38;5;124;03m    Ensure that key is valid for current indexer.\u001b[39;00m\n\u001b[1;32m    890\u001b[0m \n\u001b[0;32m   (...)\u001b[0m\n\u001b[1;32m    905\u001b[0m \u001b[38;5;124;03m        If the key was not found.\u001b[39;00m\n\u001b[1;32m    906\u001b[0m \u001b[38;5;124;03m    \"\"\"\u001b[39;00m\n\u001b[1;32m    907\u001b[0m     \u001b[38;5;28;01mraise\u001b[39;00m AbstractMethodError(\u001b[38;5;28mself\u001b[39m)\n\u001b[0;32m--> 909\u001b[0m \u001b[38;5;129m@final\u001b[39m\n\u001b[1;32m    910\u001b[0m \u001b[38;5;28;01mdef\u001b[39;00m \u001b[38;5;21m_expand_ellipsis\u001b[39m(\u001b[38;5;28mself\u001b[39m, tup: \u001b[38;5;28mtuple\u001b[39m) \u001b[38;5;241m-\u001b[39m\u001b[38;5;241m>\u001b[39m \u001b[38;5;28mtuple\u001b[39m:\n\u001b[1;32m    911\u001b[0m \u001b[38;5;250m    \u001b[39m\u001b[38;5;124;03m\"\"\"\u001b[39;00m\n\u001b[1;32m    912\u001b[0m \u001b[38;5;124;03m    If a tuple key includes an Ellipsis, replace it with an appropriate\u001b[39;00m\n\u001b[1;32m    913\u001b[0m \u001b[38;5;124;03m    number of null slices.\u001b[39;00m\n\u001b[1;32m    914\u001b[0m \u001b[38;5;124;03m    \"\"\"\u001b[39;00m\n\u001b[1;32m    915\u001b[0m     \u001b[38;5;28;01mif\u001b[39;00m \u001b[38;5;28many\u001b[39m(x \u001b[38;5;129;01mis\u001b[39;00m \u001b[38;5;28mEllipsis\u001b[39m \u001b[38;5;28;01mfor\u001b[39;00m x \u001b[38;5;129;01min\u001b[39;00m tup):\n",
      "\u001b[0;31mKeyboardInterrupt\u001b[0m: "
     ]
    }
   ],
   "source": [
    "import itertools\n",
    "from tqdm import tqdm\n",
    "# get all combinations of assets\n",
    "#   for each combination, sample 1000 random w\n",
    "#      for each w calculate and store sharpe\n",
    "\n",
    "n_assets = 25\n",
    "best = ([],0,0)\n",
    "max_sharpe = -1000000\n",
    "asset_combinations = list(itertools.combinations(data.columns,n_assets))\n",
    "for combo in tqdm(asset_combinations): \n",
    "    for i in range(0,1000):\n",
    "        w = get_random_w(n_assets)\n",
    "        sharpe = get_sharpe(combo,w,0.0,data)\n",
    "        if sharpe > max_sharpe:\n",
    "            max_sharpe = sharpe\n",
    "            best = (combo,w,sharpe)\n",
    "\n",
    "print(best) \n"
   ]
  },
  {
   "cell_type": "markdown",
   "metadata": {},
   "source": []
  },
  {
   "cell_type": "markdown",
   "metadata": {},
   "source": []
  }
 ],
 "metadata": {
  "kernelspec": {
   "display_name": "base",
   "language": "python",
   "name": "python3"
  },
  "language_info": {
   "codemirror_mode": {
    "name": "ipython",
    "version": 3
   },
   "file_extension": ".py",
   "mimetype": "text/x-python",
   "name": "python",
   "nbconvert_exporter": "python",
   "pygments_lexer": "ipython3",
   "version": "3.11.7"
  }
 },
 "nbformat": 4,
 "nbformat_minor": 2
}
