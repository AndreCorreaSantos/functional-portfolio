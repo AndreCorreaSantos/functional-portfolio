{
 "cells": [
  {
   "cell_type": "code",
   "execution_count": 1,
   "metadata": {},
   "outputs": [],
   "source": [
    "import pandas as pd\n",
    "import numpy as np\n",
    "\n",
    "\n",
    "data = pd.read_csv('../dow_returns_2024_h2.csv', index_col=0)\n",
    "n_assets = 25\n",
    "n_w = 1000\n"
   ]
  },
  {
   "cell_type": "code",
   "execution_count": 4,
   "metadata": {},
   "outputs": [
    {
     "name": "stdout",
     "output_type": "stream",
     "text": [
      "Results saved to 'python_sharpe_runs.csv'\n"
     ]
    }
   ],
   "source": [
    "import pandas as pd\n",
    "import time\n",
    "from logic import parallelSharpe\n",
    "\n",
    "results = []\n",
    "\n",
    "for i in range(5):\n",
    "    start = time.perf_counter()\n",
    "    \n",
    "    combo, weights, sharpe = parallelSharpe(data, n_assets, n_w)\n",
    "    \n",
    "    elapsed = time.perf_counter() - start\n",
    "    \n",
    "    results.append({\n",
    "        'run': i + 1,\n",
    "        'assets': ','.join(combo),\n",
    "        'weights': ','.join(map(str, weights)),\n",
    "        'sharpe': sharpe,\n",
    "        'time_sec': elapsed\n",
    "    })\n",
    "\n",
    "# Create DataFrame\n",
    "df = pd.DataFrame(results)\n",
    "\n",
    "# Write to CSV\n",
    "df.to_csv('python_sharpe_runs.csv', index=False)\n",
    "\n",
    "print(\"Results saved to 'python_sharpe_runs.csv'\")\n"
   ]
  }
 ],
 "metadata": {
  "kernelspec": {
   "display_name": "base",
   "language": "python",
   "name": "python3"
  },
  "language_info": {
   "codemirror_mode": {
    "name": "ipython",
    "version": 3
   },
   "file_extension": ".py",
   "mimetype": "text/x-python",
   "name": "python",
   "nbconvert_exporter": "python",
   "pygments_lexer": "ipython3",
   "version": "3.11.7"
  }
 },
 "nbformat": 4,
 "nbformat_minor": 2
}
